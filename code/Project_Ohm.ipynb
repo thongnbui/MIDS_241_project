{
 "cells": [
  {
   "cell_type": "markdown",
   "metadata": {},
   "source": [
    "# Project Ohm"
   ]
  },
  {
   "cell_type": "code",
   "execution_count": 118,
   "metadata": {
    "collapsed": true
   },
   "outputs": [],
   "source": [
    "import pandas as pd\n",
    "import statsmodels.formula.api as sm\n",
    "import statsmodels.stats.sandwich_covariance as sw\n",
    "import numpy as np\n",
    "from urllib.request import urlopen\n",
    "import matplotlib.pyplot as plt\n",
    "%matplotlib inline  \n",
    "import seaborn as sns\n",
    "sns.set(style=\"darkgrid\")"
   ]
  },
  {
   "cell_type": "code",
   "execution_count": 83,
   "metadata": {
    "collapsed": false
   },
   "outputs": [
    {
     "data": {
      "text/html": [
       "<div>\n",
       "<table border=\"1\" class=\"dataframe\">\n",
       "  <thead>\n",
       "    <tr style=\"text-align: right;\">\n",
       "      <th></th>\n",
       "      <th>ID</th>\n",
       "      <th>Group</th>\n",
       "      <th>Name</th>\n",
       "      <th>Recruited_By</th>\n",
       "      <th>Location</th>\n",
       "      <th>Age_Group</th>\n",
       "      <th>Gender</th>\n",
       "      <th>Religion</th>\n",
       "      <th>Pre_existing_blood_pressure</th>\n",
       "      <th>Years_practice</th>\n",
       "      <th>...</th>\n",
       "      <th>After_Med_BP_DIA</th>\n",
       "      <th>After_Med_BP_PUL</th>\n",
       "      <th>Post_Med_focus</th>\n",
       "      <th>B4_color_BP_Sys</th>\n",
       "      <th>B4_color_BP_DIA</th>\n",
       "      <th>B4_color_BP_Pul</th>\n",
       "      <th>After_color_BP_Sys</th>\n",
       "      <th>After_color_BP_DIA</th>\n",
       "      <th>After_color_BP_Pul</th>\n",
       "      <th>Enjoy_Coloring</th>\n",
       "    </tr>\n",
       "  </thead>\n",
       "  <tbody>\n",
       "    <tr>\n",
       "      <th>0</th>\n",
       "      <td>1</td>\n",
       "      <td>0</td>\n",
       "      <td>Sundell, Jenna</td>\n",
       "      <td>Erika</td>\n",
       "      <td>San Diego, CA</td>\n",
       "      <td>40-49</td>\n",
       "      <td>F</td>\n",
       "      <td>Buddhist</td>\n",
       "      <td>Low</td>\n",
       "      <td>25</td>\n",
       "      <td>...</td>\n",
       "      <td>59.0</td>\n",
       "      <td>59.0</td>\n",
       "      <td>4.0</td>\n",
       "      <td>108.0</td>\n",
       "      <td>64.0</td>\n",
       "      <td>54.0</td>\n",
       "      <td>94.0</td>\n",
       "      <td>64.0</td>\n",
       "      <td>59.0</td>\n",
       "      <td>2.0</td>\n",
       "    </tr>\n",
       "    <tr>\n",
       "      <th>1</th>\n",
       "      <td>2</td>\n",
       "      <td>1</td>\n",
       "      <td>Hanni, Karin</td>\n",
       "      <td>Erika</td>\n",
       "      <td>Bellingham, WA</td>\n",
       "      <td>40-49</td>\n",
       "      <td>F</td>\n",
       "      <td>Buddhist</td>\n",
       "      <td>Avg</td>\n",
       "      <td>10</td>\n",
       "      <td>...</td>\n",
       "      <td>61.0</td>\n",
       "      <td>75.0</td>\n",
       "      <td>3.0</td>\n",
       "      <td>122.0</td>\n",
       "      <td>64.0</td>\n",
       "      <td>79.0</td>\n",
       "      <td>101.0</td>\n",
       "      <td>57.0</td>\n",
       "      <td>75.0</td>\n",
       "      <td>3.5</td>\n",
       "    </tr>\n",
       "    <tr>\n",
       "      <th>2</th>\n",
       "      <td>3</td>\n",
       "      <td>0</td>\n",
       "      <td>Roe, Brian</td>\n",
       "      <td>Erika</td>\n",
       "      <td>Lopez Island, WA</td>\n",
       "      <td>50-59</td>\n",
       "      <td>M</td>\n",
       "      <td>Buddhist</td>\n",
       "      <td>Avg</td>\n",
       "      <td>45</td>\n",
       "      <td>...</td>\n",
       "      <td>73.0</td>\n",
       "      <td>85.0</td>\n",
       "      <td>4.0</td>\n",
       "      <td>123.0</td>\n",
       "      <td>64.0</td>\n",
       "      <td>79.0</td>\n",
       "      <td>109.0</td>\n",
       "      <td>69.0</td>\n",
       "      <td>83.0</td>\n",
       "      <td>4.0</td>\n",
       "    </tr>\n",
       "    <tr>\n",
       "      <th>3</th>\n",
       "      <td>4</td>\n",
       "      <td>1</td>\n",
       "      <td>Aboud, Julie</td>\n",
       "      <td>Erika</td>\n",
       "      <td>San Diego, CA</td>\n",
       "      <td>50-59</td>\n",
       "      <td>F</td>\n",
       "      <td>Spiritual</td>\n",
       "      <td>Low</td>\n",
       "      <td>47</td>\n",
       "      <td>...</td>\n",
       "      <td>71.0</td>\n",
       "      <td>95.0</td>\n",
       "      <td>3.0</td>\n",
       "      <td>121.0</td>\n",
       "      <td>91.0</td>\n",
       "      <td>100.0</td>\n",
       "      <td>113.0</td>\n",
       "      <td>75.0</td>\n",
       "      <td>93.0</td>\n",
       "      <td>5.0</td>\n",
       "    </tr>\n",
       "    <tr>\n",
       "      <th>4</th>\n",
       "      <td>5</td>\n",
       "      <td>0</td>\n",
       "      <td>Harrison, Kelly</td>\n",
       "      <td>Erika</td>\n",
       "      <td>Redwood City, CA</td>\n",
       "      <td>50-59</td>\n",
       "      <td>F</td>\n",
       "      <td>Buddhist</td>\n",
       "      <td>Avg</td>\n",
       "      <td>24</td>\n",
       "      <td>...</td>\n",
       "      <td>81.0</td>\n",
       "      <td>79.0</td>\n",
       "      <td>4.0</td>\n",
       "      <td>124.0</td>\n",
       "      <td>79.0</td>\n",
       "      <td>77.0</td>\n",
       "      <td>116.0</td>\n",
       "      <td>65.0</td>\n",
       "      <td>82.0</td>\n",
       "      <td>4.0</td>\n",
       "    </tr>\n",
       "  </tbody>\n",
       "</table>\n",
       "<p>5 rows × 31 columns</p>\n",
       "</div>"
      ],
      "text/plain": [
       "   ID  Group             Name Recruited_By          Location Age_Group Gender  \\\n",
       "0   1      0   Sundell, Jenna        Erika     San Diego, CA     40-49      F   \n",
       "1   2      1     Hanni, Karin        Erika    Bellingham, WA     40-49      F   \n",
       "2   3      0       Roe, Brian        Erika  Lopez Island, WA     50-59      M   \n",
       "3   4      1     Aboud, Julie        Erika     San Diego, CA     50-59      F   \n",
       "4   5      0  Harrison, Kelly        Erika  Redwood City, CA     50-59      F   \n",
       "\n",
       "    Religion Pre_existing_blood_pressure  Years_practice       ...        \\\n",
       "0   Buddhist                         Low              25       ...         \n",
       "1   Buddhist                         Avg              10       ...         \n",
       "2   Buddhist                         Avg              45       ...         \n",
       "3  Spiritual                         Low              47       ...         \n",
       "4   Buddhist                         Avg              24       ...         \n",
       "\n",
       "  After_Med_BP_DIA  After_Med_BP_PUL Post_Med_focus B4_color_BP_Sys  \\\n",
       "0             59.0              59.0            4.0           108.0   \n",
       "1             61.0              75.0            3.0           122.0   \n",
       "2             73.0              85.0            4.0           123.0   \n",
       "3             71.0              95.0            3.0           121.0   \n",
       "4             81.0              79.0            4.0           124.0   \n",
       "\n",
       "  B4_color_BP_DIA B4_color_BP_Pul After_color_BP_Sys  After_color_BP_DIA  \\\n",
       "0            64.0            54.0               94.0                64.0   \n",
       "1            64.0            79.0              101.0                57.0   \n",
       "2            64.0            79.0              109.0                69.0   \n",
       "3            91.0           100.0              113.0                75.0   \n",
       "4            79.0            77.0              116.0                65.0   \n",
       "\n",
       "   After_color_BP_Pul  Enjoy_Coloring  \n",
       "0                59.0             2.0  \n",
       "1                75.0             3.5  \n",
       "2                83.0             4.0  \n",
       "3                93.0             5.0  \n",
       "4                82.0             4.0  \n",
       "\n",
       "[5 rows x 31 columns]"
      ]
     },
     "execution_count": 83,
     "metadata": {},
     "output_type": "execute_result"
    }
   ],
   "source": [
    "d = pd.read_csv(\"../data/meditation.csv\")\n",
    "d.head()"
   ]
  },
  {
   "cell_type": "code",
   "execution_count": 84,
   "metadata": {
    "collapsed": false
   },
   "outputs": [
    {
     "data": {
      "text/plain": [
       "Index(['ID', 'Group', 'Name', 'Recruited_By', 'Location', 'Age_Group',\n",
       "       'Gender', 'Religion', 'Pre_existing_blood_pressure', 'Years_practice',\n",
       "       'caffeinated_drinks', 'hours_since_last_caffeinated_drink',\n",
       "       'Online_in_person', 'Experiment_Date', 'Start_Time',\n",
       "       'previous_strenuous_activity', 'Before_Meditation_how_relaxed',\n",
       "       'B4_Med_BP_Sys', 'B4_Med_BP_DIA', 'B4_Med_BP_PUL', 'After_Med_BP_Sys',\n",
       "       'After_Med_BP_DIA', 'After_Med_BP_PUL', 'Post_Med_focus',\n",
       "       'B4_color_BP_Sys', 'B4_color_BP_DIA', 'B4_color_BP_Pul',\n",
       "       'After_color_BP_Sys', 'After_color_BP_DIA', 'After_color_BP_Pul',\n",
       "       'Enjoy_Coloring'],\n",
       "      dtype='object')"
      ]
     },
     "execution_count": 84,
     "metadata": {},
     "output_type": "execute_result"
    }
   ],
   "source": [
    "d.columns"
   ]
  },
  {
   "cell_type": "code",
   "execution_count": 85,
   "metadata": {
    "collapsed": false
   },
   "outputs": [],
   "source": [
    "# Creating Pandas Series for Outcomes of Interest\n",
    "d['HeartRate_C'] = d['After_color_BP_Pul']-d['B4_color_BP_Pul']\n",
    "d['HeartRate_M'] = d['After_Med_BP_PUL']-d['B4_Med_BP_PUL']\n",
    "\n",
    "d['Sys_C'] = d['After_color_BP_Sys']-d['B4_color_BP_Sys']\n",
    "d['Sys_M'] = d['After_Med_BP_Sys']-d['B4_Med_BP_Sys']\n",
    "\n",
    "d['DIA_C'] = d['After_color_BP_DIA']-d['B4_color_BP_DIA']\n",
    "d['DIA_M'] = d['After_Med_BP_DIA']-d['B4_Med_BP_DIA']"
   ]
  },
  {
   "cell_type": "code",
   "execution_count": 87,
   "metadata": {
    "collapsed": false
   },
   "outputs": [],
   "source": [
    "d['order_grp'] = d[\"Group\"].astype('category') \n",
    "d['recruiter'] = d[\"Recruited_By\"].astype('category')\n",
    "d['age'] = d['Age_Group'].astype('category')\n",
    "d['gen'] = d[\"Gender\"].astype('category')\n",
    "d['rel'] = d[\"Religion\"].astype('category')\n",
    "d['bp_cat'] = d[\"Pre_existing_blood_pressure\"].astype('category')\n",
    "d['yrs'] = d[\"Years_practice\"].astype('category')\n",
    "d['caf'] = d[\"caffeinated_drinks\"].astype('category')\n",
    "d[\"hrs_caf\"] = d[\"hours_since_last_caffeinated_drink\"].astype('category')\n",
    "d[\"in_pers\"] = d[\"Online_in_person\"].astype('category')\n",
    "d['activity'] = d[\"previous_strenuous_activity\"].astype('category')\n",
    "d['prior_state'] = d[\"Before_Meditation_how_relaxed\"].astype('category')\n",
    "d[\"med_foc\"] = d['Post_Med_focus'].astype('category')\n",
    "d['col_enj'] = d[\"Enjoy_Coloring\"].astype('category')"
   ]
  },
  {
   "cell_type": "code",
   "execution_count": 88,
   "metadata": {
    "collapsed": false
   },
   "outputs": [
    {
     "data": {
      "text/html": [
       "<table class=\"simpletable\">\n",
       "<caption>OLS Regression Results</caption>\n",
       "<tr>\n",
       "  <th>Dep. Variable:</th>       <td>HeartRate_M</td>   <th>  R-squared:         </th> <td>   1.000</td> \n",
       "</tr>\n",
       "<tr>\n",
       "  <th>Model:</th>                   <td>OLS</td>       <th>  Adj. R-squared:    </th> <td>   0.987</td> \n",
       "</tr>\n",
       "<tr>\n",
       "  <th>Method:</th>             <td>Least Squares</td>  <th>  F-statistic:       </th> <td>1.071e+18</td>\n",
       "</tr>\n",
       "<tr>\n",
       "  <th>Date:</th>             <td>Sun, 06 Aug 2017</td> <th>  Prob (F-statistic):</th> <td>7.67e-10</td> \n",
       "</tr>\n",
       "<tr>\n",
       "  <th>Time:</th>                 <td>23:42:31</td>     <th>  Log-Likelihood:    </th> <td>  18.847</td> \n",
       "</tr>\n",
       "<tr>\n",
       "  <th>No. Observations:</th>      <td>    30</td>      <th>  AIC:               </th> <td>   20.31</td> \n",
       "</tr>\n",
       "<tr>\n",
       "  <th>Df Residuals:</th>          <td>     1</td>      <th>  BIC:               </th> <td>   60.94</td> \n",
       "</tr>\n",
       "<tr>\n",
       "  <th>Df Model:</th>              <td>    28</td>      <th>                     </th>     <td> </td>    \n",
       "</tr>\n",
       "<tr>\n",
       "  <th>Covariance Type:</th>         <td>HC1</td>       <th>                     </th>     <td> </td>    \n",
       "</tr>\n",
       "</table>\n",
       "<table class=\"simpletable\">\n",
       "<tr>\n",
       "              <td></td>                 <th>coef</th>     <th>std err</th>      <th>t</th>      <th>P>|t|</th> <th>[95.0% Conf. Int.]</th> \n",
       "</tr>\n",
       "<tr>\n",
       "  <th>Intercept</th>                 <td>   -4.2539</td> <td>    1.355</td> <td>   -3.140</td> <td> 0.196</td> <td>  -21.466    12.958</td>\n",
       "</tr>\n",
       "<tr>\n",
       "  <th>order_grp[T.1]</th>            <td>    6.1933</td> <td>    0.483</td> <td>   12.831</td> <td> 0.050</td> <td>    0.060    12.326</td>\n",
       "</tr>\n",
       "<tr>\n",
       "  <th>recruiter[T.Post]</th>         <td>    5.4247</td> <td>    1.049</td> <td>    5.171</td> <td> 0.122</td> <td>   -7.904    18.753</td>\n",
       "</tr>\n",
       "<tr>\n",
       "  <th>recruiter[T.Thong]</th>        <td>   -7.4109</td> <td>    0.151</td> <td>  -49.084</td> <td> 0.013</td> <td>   -9.329    -5.492</td>\n",
       "</tr>\n",
       "<tr>\n",
       "  <th>age[T.30-39]</th>              <td>   -1.5303</td> <td>    0.214</td> <td>   -7.136</td> <td> 0.089</td> <td>   -4.255     1.194</td>\n",
       "</tr>\n",
       "<tr>\n",
       "  <th>age[T.30-40]</th>              <td>   -3.7335</td> <td>    0.611</td> <td>   -6.115</td> <td> 0.103</td> <td>  -11.492     4.025</td>\n",
       "</tr>\n",
       "<tr>\n",
       "  <th>age[T.40-49]</th>              <td>    1.3139</td> <td>    0.429</td> <td>    3.062</td> <td> 0.201</td> <td>   -4.138     6.766</td>\n",
       "</tr>\n",
       "<tr>\n",
       "  <th>age[T.40-50]</th>              <td>    2.9802</td> <td>    0.030</td> <td>   99.331</td> <td> 0.006</td> <td>    2.599     3.361</td>\n",
       "</tr>\n",
       "<tr>\n",
       "  <th>age[T.5-9]</th>                <td>   -0.1702</td> <td>    0.202</td> <td>   -0.843</td> <td> 0.554</td> <td>   -2.735     2.395</td>\n",
       "</tr>\n",
       "<tr>\n",
       "  <th>age[T.50-59]</th>              <td>   -3.9307</td> <td>    2.117</td> <td>   -1.856</td> <td> 0.315</td> <td>  -30.836    22.974</td>\n",
       "</tr>\n",
       "<tr>\n",
       "  <th>age[T.50-60]</th>              <td>   -0.4140</td> <td>    0.212</td> <td>   -1.957</td> <td> 0.301</td> <td>   -3.102     2.274</td>\n",
       "</tr>\n",
       "<tr>\n",
       "  <th>age[T.60-70]</th>              <td>   -3.4637</td> <td>    1.161</td> <td>   -2.983</td> <td> 0.206</td> <td>  -18.219    11.292</td>\n",
       "</tr>\n",
       "<tr>\n",
       "  <th>age[T.80-90]</th>              <td>   -5.9131</td> <td>    1.174</td> <td>   -5.038</td> <td> 0.125</td> <td>  -20.827     9.001</td>\n",
       "</tr>\n",
       "<tr>\n",
       "  <th>gen[T.M]</th>                  <td>   -3.8298</td> <td>    0.202</td> <td>  -18.974</td> <td> 0.034</td> <td>   -6.395    -1.265</td>\n",
       "</tr>\n",
       "<tr>\n",
       "  <th>rel[T.Buddhist]</th>           <td>    4.6476</td> <td>    0.519</td> <td>    8.958</td> <td> 0.071</td> <td>   -1.945    11.240</td>\n",
       "</tr>\n",
       "<tr>\n",
       "  <th>rel[T.Cathollic]</th>          <td>   -4.8825</td> <td>    0.220</td> <td>  -22.198</td> <td> 0.029</td> <td>   -7.677    -2.088</td>\n",
       "</tr>\n",
       "<tr>\n",
       "  <th>rel[T.Christian]</th>          <td>    1.9609</td> <td>    0.112</td> <td>   17.458</td> <td> 0.036</td> <td>    0.534     3.388</td>\n",
       "</tr>\n",
       "<tr>\n",
       "  <th>rel[T.Christian/Buddhist]</th> <td>   -3.2353</td> <td>    1.326</td> <td>   -2.440</td> <td> 0.248</td> <td>  -20.082    13.611</td>\n",
       "</tr>\n",
       "<tr>\n",
       "  <th>rel[T.Hindu]</th>              <td>   -0.2402</td> <td>    2.325</td> <td>   -0.103</td> <td> 0.934</td> <td>  -29.788    29.308</td>\n",
       "</tr>\n",
       "<tr>\n",
       "  <th>rel[T.None]</th>               <td>    4.3163</td> <td>    0.819</td> <td>    5.271</td> <td> 0.119</td> <td>   -6.088    14.721</td>\n",
       "</tr>\n",
       "<tr>\n",
       "  <th>rel[T.Spiritual]</th>          <td>    0.3920</td> <td>    0.474</td> <td>    0.827</td> <td> 0.560</td> <td>   -5.631     6.415</td>\n",
       "</tr>\n",
       "<tr>\n",
       "  <th>bp_cat[T.High]</th>            <td>   -2.9328</td> <td>    0.621</td> <td>   -4.724</td> <td> 0.133</td> <td>  -10.821     4.956</td>\n",
       "</tr>\n",
       "<tr>\n",
       "  <th>bp_cat[T.Low]</th>             <td>   -7.7081</td> <td>    0.722</td> <td>  -10.681</td> <td> 0.059</td> <td>  -16.877     1.461</td>\n",
       "</tr>\n",
       "<tr>\n",
       "  <th>caf[T.1]</th>                  <td>    0.5000</td> <td>    1.936</td> <td>    0.258</td> <td> 0.839</td> <td>  -24.105    25.105</td>\n",
       "</tr>\n",
       "<tr>\n",
       "  <th>caf[T.1/2]</th>                <td>   -8.1001</td> <td>    1.196</td> <td>   -6.774</td> <td> 0.093</td> <td>  -23.292     7.092</td>\n",
       "</tr>\n",
       "<tr>\n",
       "  <th>caf[T.2]</th>                  <td>    4.1597</td> <td>    1.533</td> <td>    2.714</td> <td> 0.225</td> <td>  -15.316    23.636</td>\n",
       "</tr>\n",
       "<tr>\n",
       "  <th>caf[T.3]</th>                  <td>   -5.1630</td> <td>    1.239</td> <td>   -4.166</td> <td> 0.150</td> <td>  -20.911    10.585</td>\n",
       "</tr>\n",
       "<tr>\n",
       "  <th>yrs[T.1]</th>                  <td>   -2.8724</td> <td>    0.431</td> <td>   -6.671</td> <td> 0.095</td> <td>   -8.343     2.599</td>\n",
       "</tr>\n",
       "<tr>\n",
       "  <th>yrs[T.2]</th>                  <td>    6.3548</td> <td>    0.820</td> <td>    7.748</td> <td> 0.082</td> <td>   -4.067    16.777</td>\n",
       "</tr>\n",
       "<tr>\n",
       "  <th>yrs[T.10]</th>                 <td>  -10.6793</td> <td>    1.509</td> <td>   -7.076</td> <td> 0.089</td> <td>  -29.857     8.498</td>\n",
       "</tr>\n",
       "<tr>\n",
       "  <th>yrs[T.11]</th>                 <td>   -3.7335</td> <td>    0.611</td> <td>   -6.115</td> <td> 0.103</td> <td>  -11.492     4.025</td>\n",
       "</tr>\n",
       "<tr>\n",
       "  <th>yrs[T.17]</th>                 <td>    6.1862</td> <td>    0.959</td> <td>    6.454</td> <td> 0.098</td> <td>   -5.993    18.366</td>\n",
       "</tr>\n",
       "<tr>\n",
       "  <th>yrs[T.24]</th>                 <td>    9.5250</td> <td>    0.880</td> <td>   10.827</td> <td> 0.059</td> <td>   -1.654    20.704</td>\n",
       "</tr>\n",
       "<tr>\n",
       "  <th>yrs[T.25]</th>                 <td>    9.8116</td> <td>    0.323</td> <td>   30.332</td> <td> 0.021</td> <td>    5.701    13.922</td>\n",
       "</tr>\n",
       "<tr>\n",
       "  <th>yrs[T.27]</th>                 <td>   -3.2353</td> <td>    1.326</td> <td>   -2.440</td> <td> 0.248</td> <td>  -20.082    13.611</td>\n",
       "</tr>\n",
       "<tr>\n",
       "  <th>yrs[T.45]</th>                 <td>   -1.7467</td> <td>    2.294</td> <td>   -0.762</td> <td> 0.586</td> <td>  -30.890    27.396</td>\n",
       "</tr>\n",
       "<tr>\n",
       "  <th>yrs[T.47]</th>                 <td>    0.3920</td> <td>    0.474</td> <td>    0.827</td> <td> 0.560</td> <td>   -5.631     6.415</td>\n",
       "</tr>\n",
       "<tr>\n",
       "  <th>in_pers[T.O]</th>              <td>    2.2789</td> <td>    0.027</td> <td>   83.159</td> <td> 0.008</td> <td>    1.931     2.627</td>\n",
       "</tr>\n",
       "<tr>\n",
       "  <th>activity[T.No]</th>            <td>   -3.1317</td> <td>    0.418</td> <td>   -7.492</td> <td> 0.084</td> <td>   -8.443     2.179</td>\n",
       "</tr>\n",
       "<tr>\n",
       "  <th>activity[T.Yes]</th>           <td>    3.3683</td> <td>    1.519</td> <td>    2.218</td> <td> 0.270</td> <td>  -15.926    22.663</td>\n",
       "</tr>\n",
       "<tr>\n",
       "  <th>prior_state[T.relaxed]</th>    <td>    3.6650</td> <td>    0.759</td> <td>    4.828</td> <td> 0.130</td> <td>   -5.980    13.311</td>\n",
       "</tr>\n",
       "<tr>\n",
       "  <th>med_foc[T.2.5]</th>            <td>   -3.7335</td> <td>    0.611</td> <td>   -6.115</td> <td> 0.103</td> <td>  -11.492     4.025</td>\n",
       "</tr>\n",
       "<tr>\n",
       "  <th>med_foc[T.3.0]</th>            <td>    0.4715</td> <td>    0.493</td> <td>    0.957</td> <td> 0.514</td> <td>   -5.791     6.734</td>\n",
       "</tr>\n",
       "<tr>\n",
       "  <th>med_foc[T.4.0]</th>            <td>    2.6416</td> <td>    0.695</td> <td>    3.803</td> <td> 0.164</td> <td>   -6.185    11.469</td>\n",
       "</tr>\n",
       "<tr>\n",
       "  <th>med_foc[T.5.0]</th>            <td>   -0.0511</td> <td>    1.107</td> <td>   -0.046</td> <td> 0.971</td> <td>  -14.115    14.013</td>\n",
       "</tr>\n",
       "</table>\n",
       "<table class=\"simpletable\">\n",
       "<tr>\n",
       "  <th>Omnibus:</th>       <td>20.396</td> <th>  Durbin-Watson:     </th> <td>   2.000</td>\n",
       "</tr>\n",
       "<tr>\n",
       "  <th>Prob(Omnibus):</th> <td> 0.000</td> <th>  Jarque-Bera (JB):  </th> <td> 180.000</td>\n",
       "</tr>\n",
       "<tr>\n",
       "  <th>Skew:</th>          <td>-0.000</td> <th>  Prob(JB):          </th> <td>8.19e-40</td>\n",
       "</tr>\n",
       "<tr>\n",
       "  <th>Kurtosis:</th>      <td>15.000</td> <th>  Cond. No.          </th> <td>1.56e+16</td>\n",
       "</tr>\n",
       "</table>"
      ],
      "text/plain": [
       "<class 'statsmodels.iolib.summary.Summary'>\n",
       "\"\"\"\n",
       "                            OLS Regression Results                            \n",
       "==============================================================================\n",
       "Dep. Variable:            HeartRate_M   R-squared:                       1.000\n",
       "Model:                            OLS   Adj. R-squared:                  0.987\n",
       "Method:                 Least Squares   F-statistic:                 1.071e+18\n",
       "Date:                Sun, 06 Aug 2017   Prob (F-statistic):           7.67e-10\n",
       "Time:                        23:42:31   Log-Likelihood:                 18.847\n",
       "No. Observations:                  30   AIC:                             20.31\n",
       "Df Residuals:                       1   BIC:                             60.94\n",
       "Df Model:                          28                                         \n",
       "Covariance Type:                  HC1                                         \n",
       "=============================================================================================\n",
       "                                coef    std err          t      P>|t|      [95.0% Conf. Int.]\n",
       "---------------------------------------------------------------------------------------------\n",
       "Intercept                    -4.2539      1.355     -3.140      0.196       -21.466    12.958\n",
       "order_grp[T.1]                6.1933      0.483     12.831      0.050         0.060    12.326\n",
       "recruiter[T.Post]             5.4247      1.049      5.171      0.122        -7.904    18.753\n",
       "recruiter[T.Thong]           -7.4109      0.151    -49.084      0.013        -9.329    -5.492\n",
       "age[T.30-39]                 -1.5303      0.214     -7.136      0.089        -4.255     1.194\n",
       "age[T.30-40]                 -3.7335      0.611     -6.115      0.103       -11.492     4.025\n",
       "age[T.40-49]                  1.3139      0.429      3.062      0.201        -4.138     6.766\n",
       "age[T.40-50]                  2.9802      0.030     99.331      0.006         2.599     3.361\n",
       "age[T.5-9]                   -0.1702      0.202     -0.843      0.554        -2.735     2.395\n",
       "age[T.50-59]                 -3.9307      2.117     -1.856      0.315       -30.836    22.974\n",
       "age[T.50-60]                 -0.4140      0.212     -1.957      0.301        -3.102     2.274\n",
       "age[T.60-70]                 -3.4637      1.161     -2.983      0.206       -18.219    11.292\n",
       "age[T.80-90]                 -5.9131      1.174     -5.038      0.125       -20.827     9.001\n",
       "gen[T.M]                     -3.8298      0.202    -18.974      0.034        -6.395    -1.265\n",
       "rel[T.Buddhist]               4.6476      0.519      8.958      0.071        -1.945    11.240\n",
       "rel[T.Cathollic]             -4.8825      0.220    -22.198      0.029        -7.677    -2.088\n",
       "rel[T.Christian]              1.9609      0.112     17.458      0.036         0.534     3.388\n",
       "rel[T.Christian/Buddhist]    -3.2353      1.326     -2.440      0.248       -20.082    13.611\n",
       "rel[T.Hindu]                 -0.2402      2.325     -0.103      0.934       -29.788    29.308\n",
       "rel[T.None]                   4.3163      0.819      5.271      0.119        -6.088    14.721\n",
       "rel[T.Spiritual]              0.3920      0.474      0.827      0.560        -5.631     6.415\n",
       "bp_cat[T.High]               -2.9328      0.621     -4.724      0.133       -10.821     4.956\n",
       "bp_cat[T.Low]                -7.7081      0.722    -10.681      0.059       -16.877     1.461\n",
       "caf[T.1]                      0.5000      1.936      0.258      0.839       -24.105    25.105\n",
       "caf[T.1/2]                   -8.1001      1.196     -6.774      0.093       -23.292     7.092\n",
       "caf[T.2]                      4.1597      1.533      2.714      0.225       -15.316    23.636\n",
       "caf[T.3]                     -5.1630      1.239     -4.166      0.150       -20.911    10.585\n",
       "yrs[T.1]                     -2.8724      0.431     -6.671      0.095        -8.343     2.599\n",
       "yrs[T.2]                      6.3548      0.820      7.748      0.082        -4.067    16.777\n",
       "yrs[T.10]                   -10.6793      1.509     -7.076      0.089       -29.857     8.498\n",
       "yrs[T.11]                    -3.7335      0.611     -6.115      0.103       -11.492     4.025\n",
       "yrs[T.17]                     6.1862      0.959      6.454      0.098        -5.993    18.366\n",
       "yrs[T.24]                     9.5250      0.880     10.827      0.059        -1.654    20.704\n",
       "yrs[T.25]                     9.8116      0.323     30.332      0.021         5.701    13.922\n",
       "yrs[T.27]                    -3.2353      1.326     -2.440      0.248       -20.082    13.611\n",
       "yrs[T.45]                    -1.7467      2.294     -0.762      0.586       -30.890    27.396\n",
       "yrs[T.47]                     0.3920      0.474      0.827      0.560        -5.631     6.415\n",
       "in_pers[T.O]                  2.2789      0.027     83.159      0.008         1.931     2.627\n",
       "activity[T.No]               -3.1317      0.418     -7.492      0.084        -8.443     2.179\n",
       "activity[T.Yes]               3.3683      1.519      2.218      0.270       -15.926    22.663\n",
       "prior_state[T.relaxed]        3.6650      0.759      4.828      0.130        -5.980    13.311\n",
       "med_foc[T.2.5]               -3.7335      0.611     -6.115      0.103       -11.492     4.025\n",
       "med_foc[T.3.0]                0.4715      0.493      0.957      0.514        -5.791     6.734\n",
       "med_foc[T.4.0]                2.6416      0.695      3.803      0.164        -6.185    11.469\n",
       "med_foc[T.5.0]               -0.0511      1.107     -0.046      0.971       -14.115    14.013\n",
       "==============================================================================\n",
       "Omnibus:                       20.396   Durbin-Watson:                   2.000\n",
       "Prob(Omnibus):                  0.000   Jarque-Bera (JB):              180.000\n",
       "Skew:                          -0.000   Prob(JB):                     8.19e-40\n",
       "Kurtosis:                      15.000   Cond. No.                     1.56e+16\n",
       "==============================================================================\n",
       "\n",
       "Warnings:\n",
       "[1] Standard Errors are heteroscedasticity robust (HC1)\n",
       "[2] The input rank is higher than the number of observations.\n",
       "[3] The smallest eigenvalue is 4.78e-31. This might indicate that there are\n",
       "strong multicollinearity problems or that the design matrix is singular.\n",
       "\"\"\""
      ]
     },
     "execution_count": 88,
     "metadata": {},
     "output_type": "execute_result"
    }
   ],
   "source": [
    "rob_ols = sm.ols(formula='HeartRate_M ~ order_grp + recruiter + age + gen + rel + bp_cat + caf + yrs + in_pers + activity + prior_state + med_foc', data=d).fit(cov_type='HC1', use_t=True)\n",
    "rob_ols.summary()"
   ]
  },
  {
   "cell_type": "code",
   "execution_count": 29,
   "metadata": {
    "collapsed": false
   },
   "outputs": [
    {
     "data": {
      "text/html": [
       "<table class=\"simpletable\">\n",
       "<caption>OLS Regression Results</caption>\n",
       "<tr>\n",
       "  <th>Dep. Variable:</th>       <td>HeartRate_C</td>   <th>  R-squared:         </th> <td>   0.998</td> \n",
       "</tr>\n",
       "<tr>\n",
       "  <th>Model:</th>                   <td>OLS</td>       <th>  Adj. R-squared:    </th> <td>   0.953</td> \n",
       "</tr>\n",
       "<tr>\n",
       "  <th>Method:</th>             <td>Least Squares</td>  <th>  F-statistic:       </th> <td>1.135e+18</td>\n",
       "</tr>\n",
       "<tr>\n",
       "  <th>Date:</th>             <td>Sun, 06 Aug 2017</td> <th>  Prob (F-statistic):</th> <td>7.45e-10</td> \n",
       "</tr>\n",
       "<tr>\n",
       "  <th>Time:</th>                 <td>22:59:49</td>     <th>  Log-Likelihood:    </th> <td> -1.9474</td> \n",
       "</tr>\n",
       "<tr>\n",
       "  <th>No. Observations:</th>      <td>    30</td>      <th>  AIC:               </th> <td>   61.89</td> \n",
       "</tr>\n",
       "<tr>\n",
       "  <th>Df Residuals:</th>          <td>     1</td>      <th>  BIC:               </th> <td>   102.5</td> \n",
       "</tr>\n",
       "<tr>\n",
       "  <th>Df Model:</th>              <td>    28</td>      <th>                     </th>     <td> </td>    \n",
       "</tr>\n",
       "<tr>\n",
       "  <th>Covariance Type:</th>         <td>HC1</td>       <th>                     </th>     <td> </td>    \n",
       "</tr>\n",
       "</table>\n",
       "<table class=\"simpletable\">\n",
       "<tr>\n",
       "              <td></td>                 <th>coef</th>     <th>std err</th>      <th>t</th>      <th>P>|t|</th> <th>[95.0% Conf. Int.]</th> \n",
       "</tr>\n",
       "<tr>\n",
       "  <th>Intercept</th>                 <td>    1.5038</td> <td>    2.694</td> <td>    0.558</td> <td> 0.676</td> <td>  -32.728    35.735</td>\n",
       "</tr>\n",
       "<tr>\n",
       "  <th>order_grp[T.1]</th>            <td>   -2.5933</td> <td>    1.907</td> <td>   -1.360</td> <td> 0.404</td> <td>  -26.820    21.633</td>\n",
       "</tr>\n",
       "<tr>\n",
       "  <th>recruiter[T.Post]</th>         <td>    1.0913</td> <td>    0.121</td> <td>    9.054</td> <td> 0.070</td> <td>   -0.440     2.623</td>\n",
       "</tr>\n",
       "<tr>\n",
       "  <th>recruiter[T.Thong]</th>        <td>    4.1902</td> <td>    0.326</td> <td>   12.867</td> <td> 0.049</td> <td>    0.052     8.328</td>\n",
       "</tr>\n",
       "<tr>\n",
       "  <th>age[T.30-39]</th>              <td>   -0.7608</td> <td>    0.390</td> <td>   -1.952</td> <td> 0.301</td> <td>   -5.713     4.191</td>\n",
       "</tr>\n",
       "<tr>\n",
       "  <th>age[T.30-40]</th>              <td>   -8.6679</td> <td>    2.484</td> <td>   -3.490</td> <td> 0.178</td> <td>  -40.225    22.889</td>\n",
       "</tr>\n",
       "<tr>\n",
       "  <th>age[T.40-49]</th>              <td>    3.3380</td> <td>    0.313</td> <td>   10.674</td> <td> 0.059</td> <td>   -0.636     7.312</td>\n",
       "</tr>\n",
       "<tr>\n",
       "  <th>age[T.40-50]</th>              <td>    8.4460</td> <td>    0.696</td> <td>   12.141</td> <td> 0.052</td> <td>   -0.393    17.286</td>\n",
       "</tr>\n",
       "<tr>\n",
       "  <th>age[T.5-9]</th>                <td>   -8.6187</td> <td>    0.864</td> <td>   -9.972</td> <td> 0.064</td> <td>  -19.600     2.363</td>\n",
       "</tr>\n",
       "<tr>\n",
       "  <th>age[T.50-59]</th>              <td>    5.3816</td> <td>    3.315</td> <td>    1.623</td> <td> 0.351</td> <td>  -36.743    47.506</td>\n",
       "</tr>\n",
       "<tr>\n",
       "  <th>age[T.50-60]</th>              <td>    8.1380</td> <td>    2.999</td> <td>    2.714</td> <td> 0.225</td> <td>  -29.967    46.242</td>\n",
       "</tr>\n",
       "<tr>\n",
       "  <th>age[T.60-70]</th>              <td>    1.5890</td> <td>    0.186</td> <td>    8.525</td> <td> 0.074</td> <td>   -0.779     3.957</td>\n",
       "</tr>\n",
       "<tr>\n",
       "  <th>age[T.80-90]</th>              <td>    0.4126</td> <td>    0.246</td> <td>    1.677</td> <td> 0.342</td> <td>   -2.713     3.538</td>\n",
       "</tr>\n",
       "<tr>\n",
       "  <th>gen[T.M]</th>                  <td>    1.1807</td> <td>    0.794</td> <td>    1.487</td> <td> 0.377</td> <td>   -8.909    11.271</td>\n",
       "</tr>\n",
       "<tr>\n",
       "  <th>rel[T.Buddhist]</th>           <td>    1.4013</td> <td>    1.536</td> <td>    0.912</td> <td> 0.529</td> <td>  -18.119    20.922</td>\n",
       "</tr>\n",
       "<tr>\n",
       "  <th>rel[T.Cathollic]</th>          <td>    6.7299</td> <td>    0.682</td> <td>    9.863</td> <td> 0.064</td> <td>   -1.940    15.400</td>\n",
       "</tr>\n",
       "<tr>\n",
       "  <th>rel[T.Christian]</th>          <td>    2.6803</td> <td>    0.307</td> <td>    8.733</td> <td> 0.073</td> <td>   -1.220     6.580</td>\n",
       "</tr>\n",
       "<tr>\n",
       "  <th>rel[T.Christian/Buddhist]</th> <td>   -0.8971</td> <td>    3.225</td> <td>   -0.278</td> <td> 0.827</td> <td>  -41.875    40.081</td>\n",
       "</tr>\n",
       "<tr>\n",
       "  <th>rel[T.Hindu]</th>              <td>    7.3769</td> <td>    2.091</td> <td>    3.529</td> <td> 0.176</td> <td>  -19.186    33.940</td>\n",
       "</tr>\n",
       "<tr>\n",
       "  <th>rel[T.None]</th>               <td>   -4.8646</td> <td>    3.279</td> <td>   -1.484</td> <td> 0.378</td> <td>  -46.530    36.800</td>\n",
       "</tr>\n",
       "<tr>\n",
       "  <th>rel[T.Spiritual]</th>          <td>   -3.1843</td> <td>    1.224</td> <td>   -2.602</td> <td> 0.234</td> <td>  -18.733    12.364</td>\n",
       "</tr>\n",
       "<tr>\n",
       "  <th>bp_cat[T.High]</th>            <td>    0.3820</td> <td>    0.181</td> <td>    2.113</td> <td> 0.281</td> <td>   -1.915     2.679</td>\n",
       "</tr>\n",
       "<tr>\n",
       "  <th>bp_cat[T.Low]</th>             <td>    1.8509</td> <td>    2.196</td> <td>    0.843</td> <td> 0.554</td> <td>  -26.053    29.755</td>\n",
       "</tr>\n",
       "<tr>\n",
       "  <th>caf[T.1]</th>                  <td>   -6.5620</td> <td>    2.215</td> <td>   -2.963</td> <td> 0.207</td> <td>  -34.701    21.577</td>\n",
       "</tr>\n",
       "<tr>\n",
       "  <th>caf[T.1/2]</th>                <td>    5.0352</td> <td>    3.420</td> <td>    1.472</td> <td> 0.380</td> <td>  -38.417    48.488</td>\n",
       "</tr>\n",
       "<tr>\n",
       "  <th>caf[T.2]</th>                  <td>   -0.7428</td> <td>    1.421</td> <td>   -0.523</td> <td> 0.693</td> <td>  -18.792    17.306</td>\n",
       "</tr>\n",
       "<tr>\n",
       "  <th>caf[T.3]</th>                  <td>    4.9161</td> <td>    3.235</td> <td>    1.520</td> <td> 0.371</td> <td>  -36.188    46.020</td>\n",
       "</tr>\n",
       "<tr>\n",
       "  <th>yrs[T.1]</th>                  <td>   -3.5044</td> <td>    0.863</td> <td>   -4.060</td> <td> 0.154</td> <td>  -14.473     7.464</td>\n",
       "</tr>\n",
       "<tr>\n",
       "  <th>yrs[T.2]</th>                  <td>  -14.7205</td> <td>    0.717</td> <td>  -20.527</td> <td> 0.031</td> <td>  -23.832    -5.609</td>\n",
       "</tr>\n",
       "<tr>\n",
       "  <th>yrs[T.10]</th>                 <td>   -2.2431</td> <td>    0.509</td> <td>   -4.406</td> <td> 0.142</td> <td>   -8.711     4.225</td>\n",
       "</tr>\n",
       "<tr>\n",
       "  <th>yrs[T.11]</th>                 <td>   -8.6679</td> <td>    2.484</td> <td>   -3.490</td> <td> 0.178</td> <td>  -40.225    22.889</td>\n",
       "</tr>\n",
       "<tr>\n",
       "  <th>yrs[T.17]</th>                 <td>   -7.5093</td> <td>    1.328</td> <td>   -5.653</td> <td> 0.111</td> <td>  -24.387     9.368</td>\n",
       "</tr>\n",
       "<tr>\n",
       "  <th>yrs[T.24]</th>                 <td>   -4.3399</td> <td>    0.017</td> <td> -256.035</td> <td> 0.002</td> <td>   -4.555    -4.125</td>\n",
       "</tr>\n",
       "<tr>\n",
       "  <th>yrs[T.25]</th>                 <td>   -0.1193</td> <td>    0.380</td> <td>   -0.314</td> <td> 0.806</td> <td>   -4.945     4.706</td>\n",
       "</tr>\n",
       "<tr>\n",
       "  <th>yrs[T.27]</th>                 <td>   -0.8971</td> <td>    3.225</td> <td>   -0.278</td> <td> 0.827</td> <td>  -41.875    40.081</td>\n",
       "</tr>\n",
       "<tr>\n",
       "  <th>yrs[T.45]</th>                 <td>    8.1273</td> <td>    4.658</td> <td>    1.745</td> <td> 0.331</td> <td>  -51.056    67.311</td>\n",
       "</tr>\n",
       "<tr>\n",
       "  <th>yrs[T.47]</th>                 <td>   -3.1843</td> <td>    1.224</td> <td>   -2.602</td> <td> 0.234</td> <td>  -18.733    12.364</td>\n",
       "</tr>\n",
       "<tr>\n",
       "  <th>in_pers[T.O]</th>              <td>   -4.9891</td> <td>    0.252</td> <td>  -19.763</td> <td> 0.032</td> <td>   -8.197    -1.782</td>\n",
       "</tr>\n",
       "<tr>\n",
       "  <th>activity[T.No]</th>            <td>    0.9791</td> <td>    1.542</td> <td>    0.635</td> <td> 0.640</td> <td>  -18.620    20.578</td>\n",
       "</tr>\n",
       "<tr>\n",
       "  <th>activity[T.Yes]</th>           <td>   -3.0209</td> <td>    2.330</td> <td>   -1.296</td> <td> 0.418</td> <td>  -32.633    26.591</td>\n",
       "</tr>\n",
       "<tr>\n",
       "  <th>prior_state[T.relaxed]</th>    <td>   -2.0254</td> <td>    2.831</td> <td>   -0.716</td> <td> 0.605</td> <td>  -37.991    33.940</td>\n",
       "</tr>\n",
       "<tr>\n",
       "  <th>col_enj[T.3.0]</th>            <td>    1.7454</td> <td>    1.579</td> <td>    1.105</td> <td> 0.468</td> <td>  -18.318    21.809</td>\n",
       "</tr>\n",
       "<tr>\n",
       "  <th>col_enj[T.3.5]</th>            <td>   -0.6541</td> <td>    0.695</td> <td>   -0.940</td> <td> 0.520</td> <td>   -9.491     8.183</td>\n",
       "</tr>\n",
       "<tr>\n",
       "  <th>col_enj[T.4.0]</th>            <td>   -2.8166</td> <td>    0.079</td> <td>  -35.506</td> <td> 0.018</td> <td>   -3.825    -1.809</td>\n",
       "</tr>\n",
       "<tr>\n",
       "  <th>col_enj[T.5.0]</th>            <td>    6.8021</td> <td>    0.944</td> <td>    7.209</td> <td> 0.088</td> <td>   -5.187    18.792</td>\n",
       "</tr>\n",
       "</table>\n",
       "<table class=\"simpletable\">\n",
       "<tr>\n",
       "  <th>Omnibus:</th>       <td>20.396</td> <th>  Durbin-Watson:     </th> <td>   2.000</td>\n",
       "</tr>\n",
       "<tr>\n",
       "  <th>Prob(Omnibus):</th> <td> 0.000</td> <th>  Jarque-Bera (JB):  </th> <td> 180.000</td>\n",
       "</tr>\n",
       "<tr>\n",
       "  <th>Skew:</th>          <td>-0.000</td> <th>  Prob(JB):          </th> <td>8.19e-40</td>\n",
       "</tr>\n",
       "<tr>\n",
       "  <th>Kurtosis:</th>      <td>15.000</td> <th>  Cond. No.          </th> <td>1.51e+16</td>\n",
       "</tr>\n",
       "</table>"
      ],
      "text/plain": [
       "<class 'statsmodels.iolib.summary.Summary'>\n",
       "\"\"\"\n",
       "                            OLS Regression Results                            \n",
       "==============================================================================\n",
       "Dep. Variable:            HeartRate_C   R-squared:                       0.998\n",
       "Model:                            OLS   Adj. R-squared:                  0.953\n",
       "Method:                 Least Squares   F-statistic:                 1.135e+18\n",
       "Date:                Sun, 06 Aug 2017   Prob (F-statistic):           7.45e-10\n",
       "Time:                        22:59:49   Log-Likelihood:                -1.9474\n",
       "No. Observations:                  30   AIC:                             61.89\n",
       "Df Residuals:                       1   BIC:                             102.5\n",
       "Df Model:                          28                                         \n",
       "Covariance Type:                  HC1                                         \n",
       "=============================================================================================\n",
       "                                coef    std err          t      P>|t|      [95.0% Conf. Int.]\n",
       "---------------------------------------------------------------------------------------------\n",
       "Intercept                     1.5038      2.694      0.558      0.676       -32.728    35.735\n",
       "order_grp[T.1]               -2.5933      1.907     -1.360      0.404       -26.820    21.633\n",
       "recruiter[T.Post]             1.0913      0.121      9.054      0.070        -0.440     2.623\n",
       "recruiter[T.Thong]            4.1902      0.326     12.867      0.049         0.052     8.328\n",
       "age[T.30-39]                 -0.7608      0.390     -1.952      0.301        -5.713     4.191\n",
       "age[T.30-40]                 -8.6679      2.484     -3.490      0.178       -40.225    22.889\n",
       "age[T.40-49]                  3.3380      0.313     10.674      0.059        -0.636     7.312\n",
       "age[T.40-50]                  8.4460      0.696     12.141      0.052        -0.393    17.286\n",
       "age[T.5-9]                   -8.6187      0.864     -9.972      0.064       -19.600     2.363\n",
       "age[T.50-59]                  5.3816      3.315      1.623      0.351       -36.743    47.506\n",
       "age[T.50-60]                  8.1380      2.999      2.714      0.225       -29.967    46.242\n",
       "age[T.60-70]                  1.5890      0.186      8.525      0.074        -0.779     3.957\n",
       "age[T.80-90]                  0.4126      0.246      1.677      0.342        -2.713     3.538\n",
       "gen[T.M]                      1.1807      0.794      1.487      0.377        -8.909    11.271\n",
       "rel[T.Buddhist]               1.4013      1.536      0.912      0.529       -18.119    20.922\n",
       "rel[T.Cathollic]              6.7299      0.682      9.863      0.064        -1.940    15.400\n",
       "rel[T.Christian]              2.6803      0.307      8.733      0.073        -1.220     6.580\n",
       "rel[T.Christian/Buddhist]    -0.8971      3.225     -0.278      0.827       -41.875    40.081\n",
       "rel[T.Hindu]                  7.3769      2.091      3.529      0.176       -19.186    33.940\n",
       "rel[T.None]                  -4.8646      3.279     -1.484      0.378       -46.530    36.800\n",
       "rel[T.Spiritual]             -3.1843      1.224     -2.602      0.234       -18.733    12.364\n",
       "bp_cat[T.High]                0.3820      0.181      2.113      0.281        -1.915     2.679\n",
       "bp_cat[T.Low]                 1.8509      2.196      0.843      0.554       -26.053    29.755\n",
       "caf[T.1]                     -6.5620      2.215     -2.963      0.207       -34.701    21.577\n",
       "caf[T.1/2]                    5.0352      3.420      1.472      0.380       -38.417    48.488\n",
       "caf[T.2]                     -0.7428      1.421     -0.523      0.693       -18.792    17.306\n",
       "caf[T.3]                      4.9161      3.235      1.520      0.371       -36.188    46.020\n",
       "yrs[T.1]                     -3.5044      0.863     -4.060      0.154       -14.473     7.464\n",
       "yrs[T.2]                    -14.7205      0.717    -20.527      0.031       -23.832    -5.609\n",
       "yrs[T.10]                    -2.2431      0.509     -4.406      0.142        -8.711     4.225\n",
       "yrs[T.11]                    -8.6679      2.484     -3.490      0.178       -40.225    22.889\n",
       "yrs[T.17]                    -7.5093      1.328     -5.653      0.111       -24.387     9.368\n",
       "yrs[T.24]                    -4.3399      0.017   -256.035      0.002        -4.555    -4.125\n",
       "yrs[T.25]                    -0.1193      0.380     -0.314      0.806        -4.945     4.706\n",
       "yrs[T.27]                    -0.8971      3.225     -0.278      0.827       -41.875    40.081\n",
       "yrs[T.45]                     8.1273      4.658      1.745      0.331       -51.056    67.311\n",
       "yrs[T.47]                    -3.1843      1.224     -2.602      0.234       -18.733    12.364\n",
       "in_pers[T.O]                 -4.9891      0.252    -19.763      0.032        -8.197    -1.782\n",
       "activity[T.No]                0.9791      1.542      0.635      0.640       -18.620    20.578\n",
       "activity[T.Yes]              -3.0209      2.330     -1.296      0.418       -32.633    26.591\n",
       "prior_state[T.relaxed]       -2.0254      2.831     -0.716      0.605       -37.991    33.940\n",
       "col_enj[T.3.0]                1.7454      1.579      1.105      0.468       -18.318    21.809\n",
       "col_enj[T.3.5]               -0.6541      0.695     -0.940      0.520        -9.491     8.183\n",
       "col_enj[T.4.0]               -2.8166      0.079    -35.506      0.018        -3.825    -1.809\n",
       "col_enj[T.5.0]                6.8021      0.944      7.209      0.088        -5.187    18.792\n",
       "==============================================================================\n",
       "Omnibus:                       20.396   Durbin-Watson:                   2.000\n",
       "Prob(Omnibus):                  0.000   Jarque-Bera (JB):              180.000\n",
       "Skew:                          -0.000   Prob(JB):                     8.19e-40\n",
       "Kurtosis:                      15.000   Cond. No.                     1.51e+16\n",
       "==============================================================================\n",
       "\n",
       "Warnings:\n",
       "[1] Standard Errors are heteroscedasticity robust (HC1)\n",
       "[2] The input rank is higher than the number of observations.\n",
       "[3] The smallest eigenvalue is 5.13e-31. This might indicate that there are\n",
       "strong multicollinearity problems or that the design matrix is singular.\n",
       "\"\"\""
      ]
     },
     "execution_count": 29,
     "metadata": {},
     "output_type": "execute_result"
    }
   ],
   "source": [
    "rob_ols = sm.ols(formula='HeartRate_C ~ order_grp + recruiter + age + gen + rel + bp_cat + caf + yrs + in_pers + activity + prior_state + col_enj', data=d).fit(cov_type='HC1', use_t=True)\n",
    "rob_ols.summary()"
   ]
  },
  {
   "cell_type": "markdown",
   "metadata": {},
   "source": [
    "# Adjusting To \"Cleaner\" Categories"
   ]
  },
  {
   "cell_type": "markdown",
   "metadata": {},
   "source": [
    "### First Clean Up Years Practiced"
   ]
  },
  {
   "cell_type": "code",
   "execution_count": 140,
   "metadata": {
    "collapsed": false
   },
   "outputs": [
    {
     "data": {
      "image/png": "[encoded data removed]",
      "text/plain": [
       "<matplotlib.figure.Figure at 0x1c38c9be0b8>"
      ]
     },
     "metadata": {},
     "output_type": "display_data"
    }
   ],
   "source": [
    "plt.hist(d[\"Years_practice\"], bins=10)\n",
    "plt.title(\"Yrs_pract\")\n",
    "plt.axvline(x=15.6)\n",
    "plt.axvline(x=31.2)\n",
    "plt.show()"
   ]
  },
  {
   "cell_type": "code",
   "execution_count": 141,
   "metadata": {
    "collapsed": false
   },
   "outputs": [
    {
     "data": {
      "text/plain": [
       "<matplotlib.axes._subplots.AxesSubplot at 0x1c38c99bdd8>"
      ]
     },
     "execution_count": 141,
     "metadata": {},
     "output_type": "execute_result"
    },
    {
     "data": {
      "image/png": "[encoded data removed]",
      "text/plain": [
       "<matplotlib.figure.Figure at 0x1c38c9be3c8>"
      ]
     },
     "metadata": {},
     "output_type": "display_data"
    }
   ],
   "source": [
    "sns.countplot(x=\"Years_practice\", data=d)"
   ]
  },
  {
   "cell_type": "code",
   "execution_count": 136,
   "metadata": {
    "collapsed": true
   },
   "outputs": [],
   "source": [
    "# Using function for mapping years\n",
    "# Played around with different breakdowns, but think this is the most straightforward\n",
    "# Corresponds to meditation experience or no meditation experience...\n",
    "def yrMap(x):\n",
    "    if x<0:\n",
    "        return \"Error\"\n",
    "    if x==0:\n",
    "        return 0\n",
    "    else:\n",
    "        return 1"
   ]
  },
  {
   "cell_type": "code",
   "execution_count": 137,
   "metadata": {
    "collapsed": true
   },
   "outputs": [],
   "source": [
    "d['new_yr'] = d[\"Years_practice\"].map(yrMap)"
   ]
  },
  {
   "cell_type": "code",
   "execution_count": 139,
   "metadata": {
    "collapsed": false
   },
   "outputs": [
    {
     "data": {
      "text/plain": [
       "<matplotlib.axes._subplots.AxesSubplot at 0x1c38b606a90>"
      ]
     },
     "execution_count": 139,
     "metadata": {},
     "output_type": "execute_result"
    },
    {
     "data": {
      "image/png": "[encoded data removed]",
      "text/plain": [
       "<matplotlib.figure.Figure at 0x1c38b78ccf8>"
      ]
     },
     "metadata": {},
     "output_type": "display_data"
    }
   ],
   "source": [
    "sns.countplot(x=\"new_yr\", data=d)"
   ]
  },
  {
   "cell_type": "markdown",
   "metadata": {},
   "source": [
    "### Now Clean Up Ages"
   ]
  },
  {
   "cell_type": "code",
   "execution_count": 97,
   "metadata": {
    "collapsed": false
   },
   "outputs": [],
   "source": [
    "# First just clean up what appears to be an error in the data\n",
    "def ageMap(x):\n",
    "    if x=='40-50':\n",
    "        return '40-49'\n",
    "    else:\n",
    "        return x"
   ]
  },
  {
   "cell_type": "code",
   "execution_count": 98,
   "metadata": {
    "collapsed": true
   },
   "outputs": [],
   "source": [
    "d['new_age'] = d[\"Age_Group\"].map(ageMap)"
   ]
  },
  {
   "cell_type": "code",
   "execution_count": 133,
   "metadata": {
    "collapsed": true
   },
   "outputs": [],
   "source": [
    "d['age2'] = d['new_age'].astype('category')"
   ]
  },
  {
   "cell_type": "code",
   "execution_count": 134,
   "metadata": {
    "collapsed": false
   },
   "outputs": [
    {
     "data": {
      "text/plain": [
       "<matplotlib.axes._subplots.AxesSubplot at 0x1c38b80ea58>"
      ]
     },
     "execution_count": 134,
     "metadata": {},
     "output_type": "execute_result"
    },
    {
     "data": {
      "image/png": "[encoded data removed]",
      "text/plain": [
       "<matplotlib.figure.Figure at 0x1c38ca16278>"
      ]
     },
     "metadata": {},
     "output_type": "display_data"
    }
   ],
   "source": [
    "sns.countplot(x=\"age2\", data=d)"
   ]
  },
  {
   "cell_type": "markdown",
   "metadata": {},
   "source": [
    "### Now Clean Up Religion...a monumental effort"
   ]
  },
  {
   "cell_type": "code",
   "execution_count": 127,
   "metadata": {
    "collapsed": false
   },
   "outputs": [],
   "source": [
    "# First Catholic to Christian\n",
    "def relMap(x):\n",
    "    if x=='Cathollic' or x=='Catholic' or x=='Christian':\n",
    "        return 'C'\n",
    "    if x=='Buddhist':\n",
    "        return 'B'\n",
    "    if x== 'None':\n",
    "        return 'None'\n",
    "    else:\n",
    "        return 'Other'"
   ]
  },
  {
   "cell_type": "code",
   "execution_count": 129,
   "metadata": {
    "collapsed": false
   },
   "outputs": [],
   "source": [
    "d['new_rel'] = d[\"Religion\"].map(relMap)"
   ]
  },
  {
   "cell_type": "code",
   "execution_count": 130,
   "metadata": {
    "collapsed": true
   },
   "outputs": [],
   "source": [
    "d['rel2'] = d['new_rel'].astype('category')"
   ]
  },
  {
   "cell_type": "code",
   "execution_count": 142,
   "metadata": {
    "collapsed": false
   },
   "outputs": [
    {
     "data": {
      "text/plain": [
       "<matplotlib.axes._subplots.AxesSubplot at 0x1c38b792cf8>"
      ]
     },
     "execution_count": 142,
     "metadata": {},
     "output_type": "execute_result"
    },
    {
     "data": {
      "image/png": "[encoded data removed]",
      "text/plain": [
       "<matplotlib.figure.Figure at 0x1c38b8786d8>"
      ]
     },
     "metadata": {},
     "output_type": "display_data"
    }
   ],
   "source": [
    "# Plot religious distribution to see break-out:\n",
    "sns.countplot(x=\"rel2\", data=d)\n",
    "\n",
    "# alternative methods\n",
    "#plt.hist(d[\"rel2\"])\n",
    "#plt.show()\n",
    "#plt.plot(d.rel2.value_counts())"
   ]
  },
  {
   "cell_type": "markdown",
   "metadata": {},
   "source": [
    "### Now Clean Up Caffeine"
   ]
  },
  {
   "cell_type": "code",
   "execution_count": 143,
   "metadata": {
    "collapsed": true
   },
   "outputs": [],
   "source": [
    "# Creating Intermediate Transformations of Series--into 'Arbitrary Categories'\n",
    "# M\n",
    "\n",
    "\n",
    "# Hours Since Caffeinated:  5-X:\n",
    "\n"
   ]
  },
  {
   "cell_type": "code",
   "execution_count": null,
   "metadata": {
    "collapsed": true
   },
   "outputs": [],
   "source": []
  }
 ],
 "metadata": {
  "anaconda-cloud": {},
  "kernelspec": {
   "display_name": "Python [conda root]",
   "language": "python",
   "name": "conda-root-py"
  },
  "language_info": {
   "codemirror_mode": {
    "name": "ipython",
    "version": 3
   },
   "file_extension": ".py",
   "mimetype": "text/x-python",
   "name": "python",
   "nbconvert_exporter": "python",
   "pygments_lexer": "ipython3",
   "version": "3.5.2"
  }
 },
 "nbformat": 4,
 "nbformat_minor": 1
}
